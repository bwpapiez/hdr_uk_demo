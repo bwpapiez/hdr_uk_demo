{
 "cells": [
  {
   "cell_type": "markdown",
   "metadata": {},
   "source": [
    "# SimpleITK\n",
    "\n",
    "The following short demo for this session was prepared using examples provided at SimpleITK Notebooks:\n",
    "\n",
    "http://insightsoftwareconsortium.github.io/SimpleITK-Notebooks/\n",
    "\n",
    "Read more about SimpleITK (and ITK in general):\n",
    "\n",
    "http://www.simpleitk.org/\n",
    "\n"
   ]
  },
  {
   "cell_type": "markdown",
   "metadata": {},
   "source": [
    "## Setting the enviroment for simpleITK\n",
    "\n",
    "At this session, we will use only a few 2D images to explain basic concepts in image registration, but if you would like to run the additional jupyter notebooks (for more advanced topics in image regitration or image segmentation), it is strongly advised to download all of the data before you run the notebook.\n",
    "\n",
    "In case of any problems with setting enviroment, see more:\n",
    "http://insightsoftwareconsortium.github.io/SimpleITK-Notebooks/Python_html/00_Setup.html"
   ]
  },
  {
   "cell_type": "code",
   "execution_count": 5,
   "metadata": {
    "scrolled": true
   },
   "outputs": [
    {
     "name": "stdout",
     "output_type": "stream",
     "text": [
      "numpy is installed\n",
      "matplotlib is installed\n",
      "ipywidgets is installed\n",
      "pandas is installed\n",
      "scipy is installed\n",
      "SimpleITK is installed\n",
      "jupyter is installed\n"
     ]
    }
   ],
   "source": [
    "import importlib\n",
    "\n",
    "# check that all packages are installed (see requirements.txt file)\n",
    "required_packages = {'jupyter', \n",
    "                     'numpy',\n",
    "                     'matplotlib',\n",
    "                     'ipywidgets',\n",
    "                     'scipy',\n",
    "                     'pandas',\n",
    "                     'SimpleITK'\n",
    "                    }\n",
    "\n",
    "for package in required_packages:\n",
    "    try:\n",
    "        p = importlib.import_module(package)\n",
    "        print(package, 'is installed')\n",
    "    except ImportError:\n",
    "        print(package, 'is missing')"
   ]
  },
  {
   "cell_type": "markdown",
   "metadata": {},
   "source": [
    "If you need to install SimpleITK\n",
    "\n",
    "__pip install SimpleITK__\n",
    "\n",
    "If any issues, see more:\n",
    "https://simpleitk.readthedocs.io/en/master/Documentation/docs/source/installation.html"
   ]
  },
  {
   "cell_type": "code",
   "execution_count": 7,
   "metadata": {},
   "outputs": [
    {
     "name": "stdout",
     "output_type": "stream",
     "text": [
      "Requirement already satisfied: SimpleITK in c:\\users\\bartlomiejp\\appdata\\local\\continuum\\anaconda3\\lib\\site-packages (1.2.0)\n",
      "Note: you may need to restart the kernel to use updated packages.\n"
     ]
    }
   ],
   "source": [
    "pip install SimpleITK"
   ]
  },
  {
   "cell_type": "markdown",
   "metadata": {},
   "source": [
    "## Check SimpleITK version and download data:\n"
   ]
  },
  {
   "cell_type": "code",
   "execution_count": 3,
   "metadata": {},
   "outputs": [
    {
     "name": "stdout",
     "output_type": "stream",
     "text": [
      "SimpleITK Version: 1.2.0 (ITK 4.13)\n",
      "Compiled: Jan  4 2019 04:43:21\n",
      "\n"
     ]
    }
   ],
   "source": [
    "import SimpleITK as sitk\n",
    "\n",
    "print(sitk.Version())\n"
   ]
  },
  {
   "cell_type": "code",
   "execution_count": 4,
   "metadata": {},
   "outputs": [
    {
     "name": "stdout",
     "output_type": "stream",
     "text": [
      "Fetching cthead1.png\n",
      "Fetching VM1111Shrink-RGB.png\n",
      "Fetching 2th_cthead1.png\n",
      "Fetching nac-hncma-atlas2013-Slicer4Version/Data/A1_grayT1.nrrd\n",
      "Fetching nac-hncma-atlas2013-Slicer4Version/Data/A1_grayT2.nrrd\n",
      "Fetching nac-hncma-atlas2013-Slicer4Version/Data/hncma-atlas.nrrd\n",
      "Fetching B1.tiff\n",
      "Fetching B2.tiff\n",
      "Fetching B1_fixed_B2_moving0GenericAffine.mat\n",
      "Fetching B1_fixed_B2_movingComposite.h5\n",
      "Fetching coins.png\n",
      "Fetching a_vm1108.png\n",
      "Fetching vm_head_rgb.mha\n",
      "Fetching vm_head_mri.mha\n",
      "Fetching training_001_ct.mha\n",
      "Fetching training_001_mr_T1.mha\n",
      "Fetching ct_T1.standard\n",
      "Fetching CIRS057A_MR_CT_DICOM/readme.txt\n",
      "Fetching SimpleITK.jpg\n",
      "Fetching spherical_fiducials.mha\n",
      "Fetching POPI/meta/00-P.mhd\n",
      "Fetching POPI/meta/10-P.mhd\n",
      "Fetching POPI/meta/20-P.mhd\n",
      "Fetching POPI/meta/30-P.mhd\n",
      "Fetching POPI/meta/40-P.mhd\n",
      "Fetching POPI/meta/50-P.mhd\n",
      "Fetching POPI/meta/60-P.mhd\n",
      "Fetching POPI/meta/70-P.mhd\n",
      "Fetching POPI/meta/80-P.mhd\n",
      "Fetching POPI/meta/90-P.mhd\n",
      "Fetching POPI/landmarks/00-Landmarks.pts\n",
      "Fetching POPI/landmarks/10-Landmarks.pts\n",
      "Fetching POPI/landmarks/20-Landmarks.pts\n",
      "Fetching POPI/landmarks/30-Landmarks.pts\n",
      "Fetching POPI/landmarks/40-Landmarks.pts\n",
      "Fetching POPI/landmarks/50-Landmarks.pts\n",
      "Fetching POPI/landmarks/60-Landmarks.pts\n",
      "Fetching POPI/landmarks/70-Landmarks.pts\n",
      "Fetching POPI/landmarks/80-Landmarks.pts\n",
      "Fetching POPI/landmarks/90-Landmarks.pts\n",
      "Fetching POPI/masks/00-air-body-lungs.mhd\n",
      "Fetching POPI/masks/10-air-body-lungs.mhd\n",
      "Fetching POPI/masks/20-air-body-lungs.mhd\n",
      "Fetching POPI/masks/30-air-body-lungs.mhd\n",
      "Fetching POPI/masks/40-air-body-lungs.mhd\n",
      "Fetching POPI/masks/50-air-body-lungs.mhd\n",
      "Fetching POPI/masks/60-air-body-lungs.mhd\n",
      "Fetching POPI/masks/70-air-body-lungs.mhd\n",
      "Fetching POPI/masks/80-air-body-lungs.mhd\n",
      "Fetching POPI/masks/90-air-body-lungs.mhd\n",
      "Fetching liverTumorSegmentations/Patient01Homo.mha\n",
      "Fetching liverTumorSegmentations/Patient01Homo_Rad01.mha\n",
      "Fetching liverTumorSegmentations/Patient01Homo_Rad02.mha\n",
      "Fetching liverTumorSegmentations/Patient01Homo_Rad03.mha\n",
      "Fetching Control.tif\n",
      "Fetching head_mr_oriented.mha\n",
      "Fetching fib_sem_bacillus_subtilis.mha\n",
      "Fetching mr_slice_atlas/readme.txt\n",
      "Fetching photo.dcm\n",
      "Fetching leg_panorama/readme.txt\n"
     ]
    }
   ],
   "source": [
    "import sys, os\n",
    "download_script_location = os.path.abspath(os.path.join('..','Utilities'))\n",
    "if not download_script_location in sys.path:\n",
    "    sys.path.append(download_script_location)\n",
    "    \n",
    "from downloaddata import fetch_data, fetch_data_all\n",
    "\n",
    "\n",
    "\n",
    "fetch_data_all(os.path.join('..','Data'), os.path.join('..','Data','manifest.json'))"
   ]
  },
  {
   "cell_type": "code",
   "execution_count": null,
   "metadata": {},
   "outputs": [],
   "source": []
  }
 ],
 "metadata": {
  "kernelspec": {
   "display_name": "Python 3",
   "language": "python",
   "name": "python3"
  },
  "language_info": {
   "codemirror_mode": {
    "name": "ipython",
    "version": 3
   },
   "file_extension": ".py",
   "mimetype": "text/x-python",
   "name": "python",
   "nbconvert_exporter": "python",
   "pygments_lexer": "ipython3",
   "version": "3.7.3"
  }
 },
 "nbformat": 4,
 "nbformat_minor": 2
}
