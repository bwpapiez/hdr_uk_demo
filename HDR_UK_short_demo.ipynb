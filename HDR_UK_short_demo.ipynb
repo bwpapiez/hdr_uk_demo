{
 "cells": [
  {
   "cell_type": "markdown",
   "metadata": {},
   "source": [
    "# SimpleITK\n",
    "\n",
    "The following short demo for this session was prepared using examples provided at SimpleITK Notebooks:\n",
    "\n",
    "http://insightsoftwareconsortium.github.io/SimpleITK-Notebooks/\n",
    "\n",
    "Read more about SimpleITK (and ITK in general):\n",
    "\n",
    "http://www.simpleitk.org/\n",
    "\n"
   ]
  },
  {
   "cell_type": "markdown",
   "metadata": {},
   "source": [
    "## Setting the enviroment for simpleITK\n",
    "\n",
    "At this session, we will use only a few 2D images to explain basic concepts in image registration, but if you would like to run the additional jupyter notebooks (for more advanced topics in image regitration or image segmentation), it is strongly advised to download all of the data before you run the notebook.\n",
    "\n",
    "In case of any problems with setting enviroment, see more:\n",
    "http://insightsoftwareconsortium.github.io/SimpleITK-Notebooks/Python_html/00_Setup.html"
   ]
  },
  {
   "cell_type": "code",
   "execution_count": null,
   "metadata": {
    "scrolled": true
   },
   "outputs": [],
   "source": [
    "import importlib\n",
    "\n",
    "# check that all packages are installed (see requirements.txt file)\n",
    "required_packages = {'jupyter', \n",
    "                     'numpy',\n",
    "                     'matplotlib',\n",
    "                     'ipywidgets',\n",
    "                     'scipy',\n",
    "                     'pandas',\n",
    "                     'SimpleITK'\n",
    "                    }\n",
    "\n",
    "for package in required_packages:\n",
    "    try:\n",
    "        p = importlib.import_module(package)\n",
    "        print(package, 'is installed')\n",
    "    except ImportError:\n",
    "        print(package, 'is missing')"
   ]
  },
  {
   "cell_type": "markdown",
   "metadata": {},
   "source": [
    "If you need to install SimpleITK\n",
    "\n",
    "__pip install SimpleITK__\n",
    "\n",
    "If any issues, see more:\n",
    "https://simpleitk.readthedocs.io/en/master/Documentation/docs/source/installation.html"
   ]
  },
  {
   "cell_type": "code",
   "execution_count": null,
   "metadata": {},
   "outputs": [],
   "source": [
    "#pip install SimpleITK\n",
    "\n",
    "# or\n",
    "\n",
    "#conda install -c https://conda.anaconda.org/simpleitk SimpleITK"
   ]
  },
  {
   "cell_type": "markdown",
   "metadata": {},
   "source": [
    "## Check SimpleITK version and download data:\n"
   ]
  },
  {
   "cell_type": "code",
   "execution_count": null,
   "metadata": {},
   "outputs": [],
   "source": [
    "import SimpleITK as sitk\n",
    "\n",
    "print(sitk.Version())\n"
   ]
  },
  {
   "cell_type": "code",
   "execution_count": null,
   "metadata": {},
   "outputs": [],
   "source": [
    "import sys, os\n",
    "download_script_location = os.path.abspath(os.path.join('..','Utilities'))\n",
    "if not download_script_location in sys.path:\n",
    "    sys.path.append(download_script_location)\n",
    "\n",
    "# we will not use all data for this session\n",
    "#from downloaddata import fetch_data_all\n",
    "#fetch_data_all(os.path.join('..','Data'), os.path.join('..','Data','manifest.json'))"
   ]
  },
  {
   "cell_type": "markdown",
   "metadata": {},
   "source": [
    "## Let check one of the exemplar images:\n",
    "\n",
    "We read image named: \"training_001_ct.mha\", check its properties(size, etc), and then we try to visualise it.\n",
    "\n",
    "For further read on image basics in simpleITK (ITK)\n",
    "\n",
    "http://insightsoftwareconsortium.github.io/SimpleITK-Notebooks/Python_html/03_Image_Details.html"
   ]
  },
  {
   "cell_type": "code",
   "execution_count": null,
   "metadata": {},
   "outputs": [],
   "source": [
    "import matplotlib.pyplot as plt\n",
    "\n",
    "from downloaddata import fetch_data as fdata\n",
    "\n",
    "fixed_image =  sitk.ReadImage(fdata(\"training_001_ct.mha\"), sitk.sitkFloat32)\n",
    "\n",
    "print(\"Size of fixed image: \",   fixed_image.GetSize())\n",
    "print(\"Origin of fixed image: \", fixed_image.GetOrigin())\n",
    "print(\"Spacing of fixed image: \",fixed_image.GetSpacing())\n",
    "print(\"Pixel type of fixed image: \",fixed_image.GetPixelIDTypeAsString())\n",
    "\n",
    "# fixed_image is 3D, we need to select slice, we want visualise:\n",
    "slice_number=14\n",
    "\n",
    "plt.imshow(sitk.GetArrayViewFromImage(fixed_image)[slice_number,:,:])\n",
    "plt.axis('off');\n",
    "\n",
    "\n"
   ]
  },
  {
   "cell_type": "markdown",
   "metadata": {},
   "source": [
    "### Grey colormap?\n",
    "Usually, medical data are shown using grey colormap:"
   ]
  },
  {
   "cell_type": "code",
   "execution_count": null,
   "metadata": {},
   "outputs": [],
   "source": [
    "plt.imshow(sitk.GetArrayViewFromImage(fixed_image)[14,:,:],cmap=plt.cm.Greys_r)\n",
    "plt.axis('off');"
   ]
  },
  {
   "cell_type": "markdown",
   "metadata": {},
   "source": [
    "### Visualising 3D data:\n",
    "Since theis data set is 3D (as many common medical modalities), we can visualise it using interactive scroll (this is why we import this:\n",
    "\n",
    "__from ipywidgets import interact, fixed__\n",
    "\n",
    "for __interact and fixed__, read more:\n",
    "\n",
    "https://ipywidgets.readthedocs.io/en/latest/examples/Using%20Interact.html\n"
   ]
  },
  {
   "cell_type": "code",
   "execution_count": null,
   "metadata": {},
   "outputs": [],
   "source": [
    "def display_3d_image(slice_range, img_view, img_name='a nice image'):\n",
    "    # Create a figure with two subplots and the specified size.\n",
    "    plt.subplots(1,1,figsize=(5,5))\n",
    "    \n",
    "    # Draw the fixed image in the first subplot.\n",
    "    plt.subplot(1,1,1)\n",
    "    plt.imshow(img_view[slice_range,:,:],cmap=plt.cm.Greys_r)\n",
    "    plt.title(img_name)\n",
    "    plt.axis('off')\n",
    "    \n",
    "    plt.show()\n",
    "    \n",
    "from ipywidgets import interact, fixed\n",
    "\n",
    "interact(display_3d_image, slice_range=(0,fixed_image.GetSize()[2]-1), \n",
    "         img_view=fixed(sitk.GetArrayViewFromImage(fixed_image)),img_name=fixed('head CT') );\n"
   ]
  },
  {
   "cell_type": "markdown",
   "metadata": {},
   "source": [
    "## Adding transformation to image\n",
    "In this step, we will create \"an artificial\" moving image by adding a trasformation to the fixed image "
   ]
  },
  {
   "cell_type": "code",
   "execution_count": null,
   "metadata": {},
   "outputs": [],
   "source": [
    "dimension = 3        \n",
    "offset =(10,5,1) # offset can be any vector-like data  \n",
    "translation = sitk.TranslationTransform(dimension, offset)\n",
    "print(translation)\n",
    "\n",
    "\n",
    "reference_image = fixed_image\n",
    "interpolator = sitk.sitkLinear\n",
    "default_value = 100.0\n",
    "moving_image = sitk.Resample(fixed_image, reference_image, translation, interpolator, default_value)\n",
    "\n",
    "interact(display_3d_image, slice_range=(0,moving_image.GetSize()[2]-1), \n",
    "         img_view=fixed(sitk.GetArrayViewFromImage(moving_image)),img_name=fixed('shifted head CT - moving image') );"
   ]
  },
  {
   "cell_type": "markdown",
   "metadata": {},
   "source": [
    "## a better visualisation?\n",
    "To better see the artificial shift introduced to image, we can visualise image difference"
   ]
  },
  {
   "cell_type": "code",
   "execution_count": null,
   "metadata": {},
   "outputs": [],
   "source": [
    "def display_two_3Dimages_difference(slice_range, fixed, moving):\n",
    "    img = fixed[:,:,slice_range] - moving[:,:,slice_range] \n",
    "    plt.imshow(sitk.GetArrayViewFromImage(img),cmap=plt.cm.Greys_r);\n",
    "    plt.axis('off')\n",
    "    plt.show()\n",
    "    \n",
    "\n",
    "\n",
    "interact(display_two_3Dimages_difference, slice_range=(0,fixed_image.GetSize()[2]-1), \n",
    "         fixed = fixed(fixed_image), moving=fixed(moving_image));\n"
   ]
  },
  {
   "cell_type": "markdown",
   "metadata": {},
   "source": [
    "## Run registration!\n"
   ]
  },
  {
   "cell_type": "code",
   "execution_count": null,
   "metadata": {},
   "outputs": [],
   "source": [
    "from IPython.display import clear_output\n",
    "# Callback invoked when the StartEvent happens, sets up our new data.\n",
    "def start_plot():\n",
    "    global metric_values, multires_iterations\n",
    "    \n",
    "    metric_values = []\n",
    "    multires_iterations = []\n",
    "\n",
    "# Callback invoked when the EndEvent happens, do cleanup of data and figure.\n",
    "def end_plot():\n",
    "    global metric_values, multires_iterations\n",
    "    \n",
    "    del metric_values\n",
    "    del multires_iterations\n",
    "    # Close figure, we don't want to get a duplicate of the plot latter on.\n",
    "    plt.close()\n",
    "\n",
    "# Callback invoked when the IterationEvent happens, update our data and display new figure.\n",
    "def plot_values(registration_method):\n",
    "    global metric_values, multires_iterations\n",
    "    \n",
    "    metric_values.append(registration_method.GetMetricValue())                                       \n",
    "    # Clear the output area (wait=True, to reduce flickering), and plot current data\n",
    "    clear_output(wait=True)\n",
    "    # Plot the similarity metric values\n",
    "    plt.plot(metric_values, 'r')\n",
    "    plt.plot(multires_iterations, [metric_values[index] for index in multires_iterations], 'b*')\n",
    "    plt.xlabel('Iteration Number',fontsize=12)\n",
    "    plt.ylabel('Metric Value',fontsize=12)\n",
    "    plt.show()\n",
    "    \n",
    "# Callback invoked when the sitkMultiResolutionIterationEvent happens, update the index into the \n",
    "# metric_values list. \n",
    "def update_multires_iterations():\n",
    "    global metric_values, multires_iterations\n",
    "    multires_iterations.append(len(metric_values))\n",
    "\n",
    "    \n",
    "\n",
    "            \n",
    "initial_transform = sitk.TranslationTransform(dimension)\n",
    "# try different transformation:\n",
    "# #initial_transform = sitk.CenteredTransformInitializer(fixed_image, moving_image, sitk.Euler3DTransform(), sitk.CenteredTransformInitializerFilter.GEOMETRY)\n",
    "\n",
    "\n",
    "registration_method = sitk.ImageRegistrationMethod()\n",
    "\n",
    "# Similarity metric settings.\n",
    "registration_method.SetMetricAsMeanSquares()\n",
    "\n",
    "\n",
    "# try something else e.g. Correlation \n",
    "# registration_method.SetMetricAsCorrelation()\n",
    "# or Mutual Information (this could be trick)\n",
    "#registration_method.SetMetricAsMattesMutualInformation(numberOfHistogramBins=50)\n",
    "#registration_method.SetMetricSamplingStrategy(registration_method.RANDOM)\n",
    "#registration_method.SetMetricSamplingPercentage(0.01)\n",
    "\n",
    "\n",
    "registration_method.SetInterpolator(sitk.sitkLinear)\n",
    "# try different interpolation:\n",
    "# sitk.sitkNearestNeighbor \n",
    "# sitk.sitkBSpline\n",
    "\n",
    "# Optimizer settings.\n",
    "registration_method.SetOptimizerAsGradientDescent(learningRate=1, numberOfIterations=25, \n",
    "                                                  convergenceMinimumValue=1e-6, convergenceWindowSize=2)\n",
    "registration_method.SetOptimizerScalesFromPhysicalShift()\n",
    "\n",
    "# Setup for the multi-resolution framework.            \n",
    "registration_method.SetShrinkFactorsPerLevel(shrinkFactors = [4,2,1])\n",
    "registration_method.SetSmoothingSigmasPerLevel(smoothingSigmas=[4,2,0])\n",
    "registration_method.SmoothingSigmasAreSpecifiedInPhysicalUnitsOn()\n",
    "\n",
    "# Don't optimize in-place, we would possibly like to run this cell multiple times.\n",
    "registration_method.SetInitialTransform(initial_transform, inPlace=False)\n",
    "\n",
    "# Connect all of the observers so that we can perform plotting during registration.\n",
    "registration_method.AddCommand(sitk.sitkStartEvent, start_plot)\n",
    "registration_method.AddCommand(sitk.sitkEndEvent, end_plot)\n",
    "registration_method.AddCommand(sitk.sitkMultiResolutionIterationEvent, update_multires_iterations) \n",
    "registration_method.AddCommand(sitk.sitkIterationEvent, lambda: plot_values(registration_method))\n",
    "\n",
    "final_transform = registration_method.Execute(sitk.Cast(fixed_image, sitk.sitkFloat32), \n",
    "                                               sitk.Cast(moving_image, sitk.sitkFloat32))\n",
    "\n",
    "\n",
    "moving_resampled = sitk.Resample(moving_image, fixed_image, final_transform, \n",
    "                                 sitk.sitkLinear, 0.0, moving_image.GetPixelID())\n",
    "\n",
    "interact(display_two_3Dimages_difference, slice_range=(0,fixed_image.GetSize()[2]-1), \n",
    "         fixed = fixed(fixed_image), moving=fixed(moving_resampled));\n",
    "\n",
    "print(final_transform)"
   ]
  },
  {
   "cell_type": "markdown",
   "metadata": {},
   "source": [
    "## Multimodal registration:\n",
    "So far we considered registration between fixed image (head CT) and its translated copy to learn a general image registration framework. Now we can read another image, coming e.g. from different scanner (MRI), and try to align it to fixed image (reference image)"
   ]
  },
  {
   "cell_type": "code",
   "execution_count": null,
   "metadata": {},
   "outputs": [],
   "source": [
    "## read other image\n",
    "new_moving_image = sitk.ReadImage(fdata(\"training_001_mr_T1.mha\"), sitk.sitkFloat32) \n",
    "\n",
    "print(\"Size of moving image: \",   new_moving_image.GetSize())\n",
    "print(\"Origin of moving image: \", new_moving_image.GetOrigin())\n",
    "print(\"Spacing of moving image: \",new_moving_image.GetSpacing())\n",
    "print(\"Pixel type of moving image: \",new_moving_image.GetPixelIDTypeAsString())\n",
    "\n",
    "interact(display_3d_image, slice_range=(0,new_moving_image.GetSize()[2]-1), \n",
    "         img_view=fixed(sitk.GetArrayViewFromImage(new_moving_image)),img_name=fixed('head MRI') );\n",
    "\n"
   ]
  },
  {
   "cell_type": "markdown",
   "metadata": {},
   "source": [
    "We can blend this two images to see how they overlap \n",
    "\n",
    "(Why not to see difference as in case of the previous example?)"
   ]
  },
  {
   "cell_type": "code",
   "execution_count": null,
   "metadata": {},
   "outputs": [],
   "source": [
    "## register new image to the other one\n",
    "## view results\n",
    "## conclude\n",
    "\n",
    "def display_two_3Dimages_with_alpha(slice_range, alpha, fixed, moving):\n",
    "    img = (1.0 - alpha)*fixed[:,:,slice_range] + alpha*moving[:,:,slice_range] \n",
    "    plt.imshow(sitk.GetArrayViewFromImage(img),cmap=plt.cm.Greys_r);\n",
    "    plt.axis('off')\n",
    "    plt.show()\n",
    "    \n",
    "    \n",
    "multmodal_initial_transform = sitk.CenteredTransformInitializer(fixed_image, \n",
    "                                                      new_moving_image, \n",
    "                                                      sitk.Euler3DTransform(), \n",
    "                                                      sitk.CenteredTransformInitializerFilter.GEOMETRY)\n",
    "\n",
    "new_moving_resampled = sitk.Resample(new_moving_image, fixed_image, multmodal_initial_transform, sitk.sitkLinear, 0.0, new_moving_image.GetPixelID())\n",
    "\n",
    "interact(display_two_3Dimages_with_alpha, slice_range=(0,fixed_image.GetSize()[2]-1), \n",
    "         alpha=(0.0,1.0,0.05), fixed = fixed(fixed_image), moving=fixed(new_moving_resampled));"
   ]
  },
  {
   "cell_type": "markdown",
   "metadata": {},
   "source": [
    "## Setting multimodal image registration:\n",
    "\n",
    "Again, we need to set all elements of image registration, you can copy your \"framework\" from previous exercise or use this one (http://insightsoftwareconsortium.github.io/SimpleITK-Notebooks/Python_html/60_Registration_Introduction.html).\n",
    "\n",
    "Play with different setup and parameters.\n",
    "(further read here: http://insightsoftwareconsortium.github.io/SimpleITK-Notebooks/Python_html/62_Registration_Tuning.html)\n",
    "\n",
    "Any comments?"
   ]
  },
  {
   "cell_type": "code",
   "execution_count": null,
   "metadata": {},
   "outputs": [],
   "source": [
    "multimodal_registration_method = sitk.ImageRegistrationMethod()\n",
    "\n",
    "# Similarity metric settings.\n",
    "multimodal_registration_method.SetMetricAsMattesMutualInformation(numberOfHistogramBins=50)\n",
    "multimodal_registration_method.SetMetricSamplingStrategy(registration_method.RANDOM)\n",
    "multimodal_registration_method.SetMetricSamplingPercentage(0.01)\n",
    "\n",
    "multimodal_registration_method.SetInterpolator(sitk.sitkLinear)\n",
    "\n",
    "# Optimizer settings.\n",
    "multimodal_registration_method.SetOptimizerAsGradientDescent(learningRate=1.0, numberOfIterations=100, convergenceMinimumValue=1e-6, convergenceWindowSize=10)\n",
    "multimodal_registration_method.SetOptimizerScalesFromPhysicalShift()\n",
    "\n",
    "# Setup for the multi-resolution framework.            \n",
    "multimodal_registration_method.SetShrinkFactorsPerLevel(shrinkFactors = [4,2,1])\n",
    "multimodal_registration_method.SetSmoothingSigmasPerLevel(smoothingSigmas=[2,1,0])\n",
    "multimodal_registration_method.SmoothingSigmasAreSpecifiedInPhysicalUnitsOn()\n",
    "\n",
    "# Don't optimize in-place, we would possibly like to run this cell multiple times.\n",
    "multimodal_registration_method.SetInitialTransform(multmodal_initial_transform, inPlace=False)\n",
    "\n",
    "# Connect all of the observers so that we can perform plotting during registration.\n",
    "multimodal_registration_method.AddCommand(sitk.sitkStartEvent, start_plot)\n",
    "multimodal_registration_method.AddCommand(sitk.sitkEndEvent, end_plot)\n",
    "multimodal_registration_method.AddCommand(sitk.sitkMultiResolutionIterationEvent, update_multires_iterations) \n",
    "multimodal_registration_method.AddCommand(sitk.sitkIterationEvent, lambda: plot_values(multimodal_registration_method))\n",
    "\n",
    "multimodal_final_transform = multimodal_registration_method.Execute(sitk.Cast(fixed_image, sitk.sitkFloat32), \n",
    "                                               sitk.Cast(new_moving_image, sitk.sitkFloat32))"
   ]
  },
  {
   "cell_type": "code",
   "execution_count": null,
   "metadata": {},
   "outputs": [],
   "source": [
    "final_moving_resampled = sitk.Resample(new_moving_image, fixed_image, multimodal_final_transform, sitk.sitkLinear, 0.0, new_moving_image.GetPixelID())\n",
    "\n",
    "interact(display_two_3Dimages_with_alpha, slice_range=(0,fixed_image.GetSize()[2]-1), \n",
    "         alpha=(0.0,1.0,0.05), fixed = fixed(fixed_image), moving=fixed(final_moving_resampled));"
   ]
  },
  {
   "cell_type": "code",
   "execution_count": null,
   "metadata": {},
   "outputs": [],
   "source": []
  }
 ],
 "metadata": {
  "kernelspec": {
   "display_name": "Python 3",
   "language": "python",
   "name": "python3"
  },
  "language_info": {
   "codemirror_mode": {
    "name": "ipython",
    "version": 3
   },
   "file_extension": ".py",
   "mimetype": "text/x-python",
   "name": "python",
   "nbconvert_exporter": "python",
   "pygments_lexer": "ipython3",
   "version": "3.7.3"
  }
 },
 "nbformat": 4,
 "nbformat_minor": 2
}
