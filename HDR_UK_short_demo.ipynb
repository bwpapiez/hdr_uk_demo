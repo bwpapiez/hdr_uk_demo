{
 "cells": [
  {
   "cell_type": "markdown",
   "metadata": {},
   "source": [
    "# SimpleITK\n",
    "\n",
    "The following short demo for this session was prepared using examples provided at SimpleITK Notebooks:\n",
    "\n",
    "http://insightsoftwareconsortium.github.io/SimpleITK-Notebooks/\n",
    "\n",
    "Read more about SimpleITK (and ITK in general):\n",
    "\n",
    "http://www.simpleitk.org/\n",
    "\n"
   ]
  },
  {
   "cell_type": "markdown",
   "metadata": {},
   "source": [
    "## Setting the enviroment for simpleITK\n",
    "\n",
    "At this session, we will use only a few 2D images to explain basic concepts in image registration, but if you would like to run the additional jupyter notebooks (for more advanced topics in image regitration or image segmentation), it is strongly advised to download all of the data before you run the notebook.\n",
    "\n",
    "In case of any problems with setting enviroment, see more:\n",
    "http://insightsoftwareconsortium.github.io/SimpleITK-Notebooks/Python_html/00_Setup.html"
   ]
  },
  {
   "cell_type": "code",
   "execution_count": null,
   "metadata": {
    "scrolled": true
   },
   "outputs": [],
   "source": [
    "import importlib\n",
    "\n",
    "# check that all packages are installed (see requirements.txt file)\n",
    "required_packages = {'jupyter', \n",
    "                     'numpy',\n",
    "                     'matplotlib',\n",
    "                     'ipywidgets',\n",
    "                     'scipy',\n",
    "                     'pandas',\n",
    "                     'SimpleITK'\n",
    "                    }\n",
    "\n",
    "for package in required_packages:\n",
    "    try:\n",
    "        p = importlib.import_module(package)\n",
    "        print(package, 'is installed')\n",
    "    except ImportError:\n",
    "        print(package, 'is missing')"
   ]
  },
  {
   "cell_type": "markdown",
   "metadata": {},
   "source": [
    "If you need to install SimpleITK\n",
    "\n",
    "__pip install SimpleITK__\n",
    "\n",
    "If any issues, see more:\n",
    "https://simpleitk.readthedocs.io/en/master/Documentation/docs/source/installation.html"
   ]
  },
  {
   "cell_type": "code",
   "execution_count": null,
   "metadata": {},
   "outputs": [],
   "source": [
    "pip install SimpleITK"
   ]
  },
  {
   "cell_type": "markdown",
   "metadata": {},
   "source": [
    "## Check SimpleITK version and download data:\n"
   ]
  },
  {
   "cell_type": "code",
   "execution_count": null,
   "metadata": {},
   "outputs": [],
   "source": [
    "import SimpleITK as sitk\n",
    "\n",
    "print(sitk.Version())\n"
   ]
  },
  {
   "cell_type": "code",
   "execution_count": null,
   "metadata": {},
   "outputs": [],
   "source": [
    "import sys, os\n",
    "download_script_location = os.path.abspath(os.path.join('..','Utilities'))\n",
    "if not download_script_location in sys.path:\n",
    "    sys.path.append(download_script_location)\n",
    "    \n",
    "from downloaddata import fetch_data, fetch_data_all\n",
    "\n",
    "\n",
    "\n",
    "fetch_data_all(os.path.join('..','Data'), os.path.join('..','Data','manifest.json'))"
   ]
  },
  {
   "cell_type": "code",
   "execution_count": null,
   "metadata": {},
   "outputs": [],
   "source": []
  }
 ],
 "metadata": {
  "kernelspec": {
   "display_name": "Python 3",
   "language": "python",
   "name": "python3"
  },
  "language_info": {
   "codemirror_mode": {
    "name": "ipython",
    "version": 3
   },
   "file_extension": ".py",
   "mimetype": "text/x-python",
   "name": "python",
   "nbconvert_exporter": "python",
   "pygments_lexer": "ipython3",
   "version": "3.7.3"
  }
 },
 "nbformat": 4,
 "nbformat_minor": 2
}
